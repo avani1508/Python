{
  "nbformat": 4,
  "nbformat_minor": 0,
  "metadata": {
    "colab": {
      "provenance": [],
      "authorship_tag": "ABX9TyNdQww1HwkWD10bWmo1/oRg",
      "include_colab_link": true
    },
    "kernelspec": {
      "name": "python3",
      "display_name": "Python 3"
    },
    "language_info": {
      "name": "python"
    }
  },
  "cells": [
    {
      "cell_type": "markdown",
      "metadata": {
        "id": "view-in-github",
        "colab_type": "text"
      },
      "source": [
        "<a href=\"https://colab.research.google.com/github/avani1508/Python/blob/main/15July_2023.ipynb\" target=\"_parent\"><img src=\"https://colab.research.google.com/assets/colab-badge.svg\" alt=\"Open In Colab\"/></a>"
      ]
    },
    {
      "cell_type": "code",
      "source": [
        "for i in range(1,6):\n",
        "  for j in range(1,6):\n",
        "    if(j<=i):\n",
        "      print(\"*\",end='')\n",
        "  print(\"\\n\")\n"
      ],
      "metadata": {
        "colab": {
          "base_uri": "https://localhost:8080/"
        },
        "id": "zkEi0LsvBOSw",
        "outputId": "17da266d-8402-4460-9de4-7a50eba38a62"
      },
      "execution_count": null,
      "outputs": [
        {
          "output_type": "stream",
          "name": "stdout",
          "text": [
            "*\n",
            "\n",
            "**\n",
            "\n",
            "***\n",
            "\n",
            "****\n",
            "\n",
            "*****\n",
            "\n"
          ]
        }
      ]
    },
    {
      "cell_type": "code",
      "source": [
        "for i in range(1,6):\n",
        "  for j in range(1,6):\n",
        "    if(j<=i):\n",
        "      print(j,end='')\n",
        "  print(\"\\n\")"
      ],
      "metadata": {
        "colab": {
          "base_uri": "https://localhost:8080/"
        },
        "id": "lvPjpQx39doB",
        "outputId": "38a98a69-d6dc-4c1c-f45a-13c623562dd5"
      },
      "execution_count": null,
      "outputs": [
        {
          "output_type": "stream",
          "name": "stdout",
          "text": [
            "1\n",
            "\n",
            "12\n",
            "\n",
            "123\n",
            "\n",
            "1234\n",
            "\n",
            "12345\n",
            "\n"
          ]
        }
      ]
    },
    {
      "cell_type": "code",
      "source": [
        "for i in range(1,6):\n",
        "  for j in range(1,6):\n",
        "    if(j<=i):\n",
        "      print(i,end='')\n",
        "  print(\"\\n\")"
      ],
      "metadata": {
        "colab": {
          "base_uri": "https://localhost:8080/"
        },
        "id": "ZeFYWiLq9o2O",
        "outputId": "3468b44a-8437-45dc-d72e-4dbd37b266e0"
      },
      "execution_count": null,
      "outputs": [
        {
          "output_type": "stream",
          "name": "stdout",
          "text": [
            "1\n",
            "\n",
            "22\n",
            "\n",
            "333\n",
            "\n",
            "4444\n",
            "\n",
            "55555\n",
            "\n"
          ]
        }
      ]
    },
    {
      "cell_type": "code",
      "source": [
        "for i in range(1,6):\n",
        "  for j in range(1,6-i):\n",
        "    print(\" \",end=\"\")\n",
        "  for k in range(1,6):\n",
        "    if(k<=i):\n",
        "      print(\"*\",end=\"\")\n",
        "  print()"
      ],
      "metadata": {
        "colab": {
          "base_uri": "https://localhost:8080/"
        },
        "id": "byhImBJE-NGZ",
        "outputId": "76b5854e-4bd0-4257-9d24-8a0c3c101b79"
      },
      "execution_count": null,
      "outputs": [
        {
          "output_type": "stream",
          "name": "stdout",
          "text": [
            "    *\n",
            "   **\n",
            "  ***\n",
            " ****\n",
            "*****\n"
          ]
        }
      ]
    },
    {
      "cell_type": "code",
      "source": [
        "for i in range(1,6):\n",
        "  for j in range(0,6-i):\n",
        "    print(\" \",end=\"\")\n",
        "  for k in range(1,6):\n",
        "    if(k<=i):\n",
        "      print(j,end=\"\")\n",
        "  print()\n"
      ],
      "metadata": {
        "colab": {
          "base_uri": "https://localhost:8080/"
        },
        "id": "CoPD226OAb-L",
        "outputId": "949aa61b-fd65-4525-aa4f-605adeae2938"
      },
      "execution_count": null,
      "outputs": [
        {
          "output_type": "stream",
          "name": "stdout",
          "text": [
            "     4\n",
            "    33\n",
            "   222\n",
            "  1111\n",
            " 00000\n"
          ]
        }
      ]
    },
    {
      "cell_type": "code",
      "source": [
        "for i in range(1,6):\n",
        "  for j in range(0,6-i):\n",
        "    print(\" \",end=\"\")\n",
        "  for k in range(1,6):\n",
        "    if(k<=i):\n",
        "      print(i,end=\"\")\n",
        "  print()"
      ],
      "metadata": {
        "colab": {
          "base_uri": "https://localhost:8080/"
        },
        "id": "k1NcyFfJCwUN",
        "outputId": "888c6505-3283-4f73-bae7-68143fc9643a"
      },
      "execution_count": null,
      "outputs": [
        {
          "output_type": "stream",
          "name": "stdout",
          "text": [
            "     1\n",
            "    22\n",
            "   333\n",
            "  4444\n",
            " 55555\n"
          ]
        }
      ]
    },
    {
      "cell_type": "code",
      "source": [
        "for i in range(1,6):\n",
        "  for j in range(0,6-i):\n",
        "    print(\" \",end=\"\")\n",
        "  for k in range(1,6):\n",
        "    if(k<=i):\n",
        "      print(k,end=\"\")\n",
        "  print()"
      ],
      "metadata": {
        "colab": {
          "base_uri": "https://localhost:8080/"
        },
        "id": "e3nUVgLRC1oK",
        "outputId": "fdc3fc63-5ded-4dda-aab6-1467f016d8e1"
      },
      "execution_count": null,
      "outputs": [
        {
          "output_type": "stream",
          "name": "stdout",
          "text": [
            "     1\n",
            "    12\n",
            "   123\n",
            "  1234\n",
            " 12345\n"
          ]
        }
      ]
    },
    {
      "cell_type": "code",
      "source": [],
      "metadata": {
        "id": "j4XkoQHWDfT2"
      },
      "execution_count": null,
      "outputs": []
    }
  ]
}