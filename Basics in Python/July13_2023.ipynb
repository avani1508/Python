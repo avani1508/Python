{
  "nbformat": 4,
  "nbformat_minor": 0,
  "metadata": {
    "colab": {
      "provenance": [],
      "authorship_tag": "ABX9TyNh16ijKh7hOOhhpkrEY/yU",
      "include_colab_link": true
    },
    "kernelspec": {
      "name": "python3",
      "display_name": "Python 3"
    },
    "language_info": {
      "name": "python"
    }
  },
  "cells": [
    {
      "cell_type": "markdown",
      "metadata": {
        "id": "view-in-github",
        "colab_type": "text"
      },
      "source": [
        "<a href=\"https://colab.research.google.com/github/avani1508/Python/blob/main/Basics%20in%20Python/July13_2023.ipynb\" target=\"_parent\"><img src=\"https://colab.research.google.com/assets/colab-badge.svg\" alt=\"Open In Colab\"/></a>"
      ]
    },
    {
      "cell_type": "code",
      "execution_count": null,
      "metadata": {
        "colab": {
          "base_uri": "https://localhost:8080/"
        },
        "id": "ZH-WLROqVvID",
        "outputId": "f6a72f05-77fd-4cd2-a494-d4c2a878cef6"
      },
      "outputs": [
        {
          "output_type": "stream",
          "name": "stdout",
          "text": [
            "Hello\n"
          ]
        }
      ],
      "source": [
        "print(\"Hello\")"
      ]
    },
    {
      "cell_type": "code",
      "source": [
        "a=5\n",
        "b=6\n",
        "print(a+b)"
      ],
      "metadata": {
        "colab": {
          "base_uri": "https://localhost:8080/"
        },
        "id": "HcOUczKsWwuq",
        "outputId": "aefae0ea-108e-40a0-f4d2-8ccbb784b267"
      },
      "execution_count": null,
      "outputs": [
        {
          "output_type": "stream",
          "name": "stdout",
          "text": [
            "11\n"
          ]
        }
      ]
    },
    {
      "cell_type": "code",
      "source": [
        "print(\"Addition of\",a,\"and\",b,\"=\",a+b)"
      ],
      "metadata": {
        "colab": {
          "base_uri": "https://localhost:8080/"
        },
        "id": "XREmOa2nXET_",
        "outputId": "86e82fc7-9372-45e4-b4d1-cd8f4570e646"
      },
      "execution_count": null,
      "outputs": [
        {
          "output_type": "stream",
          "name": "stdout",
          "text": [
            "Addition of 5 and 6 = 11\n"
          ]
        }
      ]
    },
    {
      "cell_type": "code",
      "source": [
        "name=input(\"Enter your name\")\n",
        "print(name)"
      ],
      "metadata": {
        "colab": {
          "base_uri": "https://localhost:8080/"
        },
        "id": "L5ZSNEUtXXgA",
        "outputId": "8b07feca-452f-4ded-868b-7a9456dd5fb0"
      },
      "execution_count": null,
      "outputs": [
        {
          "output_type": "stream",
          "name": "stdout",
          "text": [
            "Enter your nameAvani Shahane\n",
            "Avani Shahane\n"
          ]
        }
      ]
    },
    {
      "cell_type": "code",
      "source": [
        "print(\"welcome Mrs. \",name)"
      ],
      "metadata": {
        "colab": {
          "base_uri": "https://localhost:8080/"
        },
        "id": "noh77Bw4YzLm",
        "outputId": "b4351490-6aa4-4ebd-a951-f77fc52b461c"
      },
      "execution_count": null,
      "outputs": [
        {
          "output_type": "stream",
          "name": "stdout",
          "text": [
            "welcome Mrs.  Avani Shahane\n"
          ]
        }
      ]
    },
    {
      "cell_type": "code",
      "source": [
        "a=input(\"Enter 1st Number\")\n",
        "b=input(\"Enter 2nd Number\")\n",
        "c=a+b\n",
        "print(\"Addition is=\",c)\n"
      ],
      "metadata": {
        "colab": {
          "base_uri": "https://localhost:8080/"
        },
        "id": "Ud62bdgmY8XX",
        "outputId": "d89eaea0-f372-4d59-dd67-f4400009bb55"
      },
      "execution_count": null,
      "outputs": [
        {
          "output_type": "stream",
          "name": "stdout",
          "text": [
            "Enter 1st Number5\n",
            "Enter 2nd Number6\n",
            "Addition is= 56\n"
          ]
        }
      ]
    },
    {
      "cell_type": "code",
      "source": [
        "a=int(input(\"Enter 1st Number\"))\n",
        "b=int(input(\"Enter 2nd Number\"))\n",
        "c=a+b\n",
        "print(\"Addition is=\",c)"
      ],
      "metadata": {
        "colab": {
          "base_uri": "https://localhost:8080/"
        },
        "id": "xgpMDSSVZl--",
        "outputId": "b8579960-7dd7-4c2d-8ee1-a576dfae0fda"
      },
      "execution_count": null,
      "outputs": [
        {
          "output_type": "stream",
          "name": "stdout",
          "text": [
            "Enter 1st Number5\n",
            "Enter 2nd Number6\n",
            "Addition is= 11\n"
          ]
        }
      ]
    },
    {
      "cell_type": "code",
      "source": [
        "a=int(input(\"Enter 1st Number\"))\n",
        "b=int(input(\"Enter 2nd Number\")).\n",
        "add=a+b\n",
        "sub=a-b\n",
        "mul=a*b\n",
        "div=a/b\n",
        "exp=a**b\n",
        "fldiv=a//b\n",
        "print(\"Addition is=\",add)\n",
        "print(\"Subtraction=\",sub)\n",
        "print(\"Multiplication =\",mul)\n",
        "print(\"Division=\",div)\n",
        "print(\"Exponential=\",exp)\n",
        "print(\"Floor Division=\",fldiv)\n"
      ],
      "metadata": {
        "colab": {
          "base_uri": "https://localhost:8080/"
        },
        "id": "qn3CbYXZaR0_",
        "outputId": "72f92bb1-4c52-47a6-b210-c22d51fa5886"
      },
      "execution_count": null,
      "outputs": [
        {
          "output_type": "stream",
          "name": "stdout",
          "text": [
            "Enter 1st Number5\n",
            "Enter 2nd Number2\n",
            "Addition is= 7\n",
            "Subtraction= 3\n",
            "Multiplication = 10\n",
            "Division= 2.5\n",
            "Exponential= 25\n",
            "Floor Division= 2\n"
          ]
        }
      ]
    },
    {
      "cell_type": "code",
      "source": [
        "def message:\n",
        "  print(\"Hello Python\")\n",
        "  message()"
      ],
      "metadata": {
        "colab": {
          "base_uri": "https://localhost:8080/",
          "height": 130
        },
        "id": "1oFvFJxhgv3b",
        "outputId": "06d8db7d-236b-496d-fb37-794e3902233d"
      },
      "execution_count": null,
      "outputs": [
        {
          "output_type": "error",
          "ename": "SyntaxError",
          "evalue": "ignored",
          "traceback": [
            "\u001b[0;36m  File \u001b[0;32m\"<ipython-input-13-314fb3933d14>\"\u001b[0;36m, line \u001b[0;32m1\u001b[0m\n\u001b[0;31m    def message:\u001b[0m\n\u001b[0m               ^\u001b[0m\n\u001b[0;31mSyntaxError\u001b[0m\u001b[0;31m:\u001b[0m invalid syntax\n"
          ]
        }
      ]
    }
  ]
}