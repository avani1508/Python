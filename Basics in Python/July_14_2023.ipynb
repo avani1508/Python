{
  "nbformat": 4,
  "nbformat_minor": 0,
  "metadata": {
    "colab": {
      "provenance": [],
      "authorship_tag": "ABX9TyNgYaUDcU218BerTxwukN+v",
      "include_colab_link": true
    },
    "kernelspec": {
      "name": "python3",
      "display_name": "Python 3"
    },
    "language_info": {
      "name": "python"
    }
  },
  "cells": [
    {
      "cell_type": "markdown",
      "metadata": {
        "id": "view-in-github",
        "colab_type": "text"
      },
      "source": [
        "<a href=\"https://colab.research.google.com/github/avani1508/Python/blob/main/Basics%20in%20Python/July_14_2023.ipynb\" target=\"_parent\"><img src=\"https://colab.research.google.com/assets/colab-badge.svg\" alt=\"Open In Colab\"/></a>"
      ]
    },
    {
      "cell_type": "code",
      "execution_count": null,
      "metadata": {
        "colab": {
          "base_uri": "https://localhost:8080/"
        },
        "id": "t6YAnklvXT6h",
        "outputId": "a09b8b81-035b-4824-8eae-a4e8019ffb93"
      },
      "outputs": [
        {
          "output_type": "stream",
          "name": "stdout",
          "text": [
            "Enter Length 6\n",
            "Enter Breadth 3\n",
            "Area of rectangle = 18\n"
          ]
        }
      ],
      "source": [
        "l=int(input(\"Enter Length \"))\n",
        "b=int(input(\"Enter Breadth \"))\n",
        "print(\"Area of rectangle =\", l*b)"
      ]
    },
    {
      "cell_type": "code",
      "source": [
        "l=int(input(\"Enter Length \"))\n",
        "b=int(input(\"Enter Breadth \"))\n",
        "print(\"Area of rectangle =\", l*b)\n",
        "print(\"Perimeter of rectangle = \", 2*(l+b))"
      ],
      "metadata": {
        "colab": {
          "base_uri": "https://localhost:8080/"
        },
        "id": "M-pKLQ6fYqps",
        "outputId": "2d3a1e0e-2d72-4c9c-d695-ec9b4a7cbbd6"
      },
      "execution_count": null,
      "outputs": [
        {
          "output_type": "stream",
          "name": "stdout",
          "text": [
            "Enter Length 4\n",
            "Enter Breadth 8\n",
            "Area of rectangle = 32\n",
            "Perimeter of rectangle =  24\n"
          ]
        }
      ]
    },
    {
      "cell_type": "code",
      "source": [
        "s=int(input(\"Enter side of square \"))\n",
        "print(\"Area of Square =\", s**2)\n",
        "print(\"Perimeter of Square =\",4*s)"
      ],
      "metadata": {
        "colab": {
          "base_uri": "https://localhost:8080/"
        },
        "id": "jvq57V2kZTr0",
        "outputId": "09a779c3-840f-46f3-ca89-151fc9ca3562"
      },
      "execution_count": null,
      "outputs": [
        {
          "output_type": "stream",
          "name": "stdout",
          "text": [
            "Enter side of square 5\n",
            "Area of Square = 25\n",
            "Perimeter of Square = 20\n"
          ]
        }
      ]
    },
    {
      "cell_type": "code",
      "source": [
        "ele_cons=int(input(\"Enter comsumed units: \"))\n",
        "tot_pr=ele_cons*5\n",
        "dis=.1*tot_pr\n",
        "print(\"Your bill = \",tot_pr)\n",
        "print(\"Discount Offered =\", dis)\n",
        "print(\"Bill to be paid =\",tot_pr-dis)"
      ],
      "metadata": {
        "colab": {
          "base_uri": "https://localhost:8080/"
        },
        "id": "hXrse3YwZ24T",
        "outputId": "d18a5795-4f2d-44e2-ae50-c48ebe17ce4c"
      },
      "execution_count": null,
      "outputs": [
        {
          "output_type": "stream",
          "name": "stdout",
          "text": [
            "Enter comsumed units: 100\n",
            "Your bill =  500\n",
            "Discount Offered = 50.0\n",
            "Bill to be paid = 450.0\n"
          ]
        }
      ]
    },
    {
      "cell_type": "code",
      "source": [
        "a=int(input(\"Enter any Number :\"))\n",
        "if(a%2)==0:\n",
        "  print(a,\"is even Number\")\n",
        "else:\n",
        "  print(a,\"is odd Number\")\n"
      ],
      "metadata": {
        "colab": {
          "base_uri": "https://localhost:8080/"
        },
        "id": "wBPszlKTcew2",
        "outputId": "95febd1a-c719-46f5-c8a4-b76cc1fe7996"
      },
      "execution_count": null,
      "outputs": [
        {
          "output_type": "stream",
          "name": "stdout",
          "text": [
            "Enter any Number :13\n",
            "13 is odd Number\n"
          ]
        }
      ]
    },
    {
      "cell_type": "code",
      "source": [
        "#1 W.A.P. to find max num between two numbers\n",
        "\n",
        "num1=int(input(\"Enter 1 st number\"))\n",
        "num2=int(input(\"Enter 2 nd number\"))\n",
        "if(num1!=num2):\n",
        "  if(num1>num2):\n",
        "    print(num1,\"is max\")\n",
        "  else:\n",
        "    print(num2,\" is max\")\n",
        "else:\n",
        "  print(\"Numbers are equal\")\n"
      ],
      "metadata": {
        "colab": {
          "base_uri": "https://localhost:8080/"
        },
        "id": "U86lTCXHdh1a",
        "outputId": "4e5a570c-bd3a-4d60-8419-32eff3f9cfe7"
      },
      "execution_count": null,
      "outputs": [
        {
          "output_type": "stream",
          "name": "stdout",
          "text": [
            "Enter 1 st number11\n",
            "Enter 2 nd number12\n",
            "12  is max\n"
          ]
        }
      ]
    },
    {
      "cell_type": "code",
      "source": [
        "# W.A.P.to find max between 3 numbers\n",
        "\n",
        "num1=int(input(\"Enter 1 st number\"))\n",
        "num2=int(input(\"Enter 2 nd number\"))\n",
        "num3=int(input(\"Enter 3 rd number\"))\n",
        "if(num1!=num2 and num2!=num3):\n",
        "  if(num1>num2 and num1>num3):\n",
        "    print(num1,\"is max\")\n",
        "  elif(num2>num1 and num2>num3):\n",
        "    print(num2,\" is max\")\n",
        "  else:\n",
        "    print(num3,\"is max\")\n",
        "else:\n",
        "  print(\"Numbers are equal\")"
      ],
      "metadata": {
        "colab": {
          "base_uri": "https://localhost:8080/"
        },
        "id": "ryj9D8GZf0Hc",
        "outputId": "f9c23584-b6b4-4b2a-8867-f55223ebe2e2"
      },
      "execution_count": null,
      "outputs": [
        {
          "output_type": "stream",
          "name": "stdout",
          "text": [
            "Enter 1 st number20\n",
            "Enter 2 nd number10\n",
            "Enter 3 rd number15\n",
            "20 is max\n"
          ]
        }
      ]
    },
    {
      "cell_type": "code",
      "source": [
        "# W.A.P. To find given number is +ve, -ve or 0\n",
        "\n",
        "num1=int(input(\"Enter 1 st number\"))\n",
        "\n",
        "if(num1>0):\n",
        "  print(\"Its +ve Number\")\n",
        "elif(num1<0):\n",
        "  print(\"Its -ve Number\")\n",
        "else:\n",
        "  print(\"Its 0\")"
      ],
      "metadata": {
        "colab": {
          "base_uri": "https://localhost:8080/"
        },
        "id": "dxlfj1Aezr6X",
        "outputId": "b2d69a48-d634-4e01-ab34-a67a3f9e3c8a"
      },
      "execution_count": null,
      "outputs": [
        {
          "output_type": "stream",
          "name": "stdout",
          "text": [
            "Enter 1 st number0\n",
            "Its 0\n"
          ]
        }
      ]
    },
    {
      "cell_type": "code",
      "source": [
        "a=int(input(\"Enter 1 st number\"))\n",
        "b=int(input(\"Enter 2 nd number\"))\n",
        "c=int(input(\"Enter 3 rd number\"))\n",
        "\n",
        "if(a<b and b<c):\n",
        "  print(b,\" is middle number\")\n",
        "elif(b<a and a<c):\n",
        "  print(a, \"is middle Number\")\n",
        "else:\n",
        "  print(c,\" is a middle Number\")"
      ],
      "metadata": {
        "id": "q8Hn0sUh1LDx"
      },
      "execution_count": null,
      "outputs": []
    }
  ]
}